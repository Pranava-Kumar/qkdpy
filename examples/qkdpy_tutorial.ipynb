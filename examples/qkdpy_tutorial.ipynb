{
 "cells": [
  {
   "cell_type": "markdown",
   "metadata": {},
   "source": [
    "# QKDpy Tutorial: Quantum Key Distribution Simulation\n",
    "\n",
    "Welcome to this interactive tutorial on QKDpy, a Python library for Quantum Key Distribution simulations. In this tutorial, you'll learn how to use QKDpy to simulate various QKD protocols and analyze their performance.\n",
    "\n",
    "## Table of Contents\n",
    "1. [Introduction to QKD](#introduction)\n",
    "2. [Installation](#installation)\n",
    "3. [Basic QKD Simulation](#basic-simulation)\n",
    "4. [Advanced Protocols](#advanced-protocols)\n",
    "5. [Quantum Networks](#quantum-networks)\n",
    "6. [Visualization Tools](#visualization)\n",
    "7. [Machine Learning Integration](#ml-integration)"
   ]
  },
  {
   "cell_type": "markdown",
   "metadata": {},
   "source": [
    "<a id='introduction'></a>\n",
    "## 1. Introduction to QKD\n",
    "\n",
    "Quantum Key Distribution (QKD) is a method of secure communication that uses quantum mechanics to enable two parties to produce a shared random secret key known only to them, which can then be used to encrypt and decrypt messages. QKDpy provides implementations of various QKD protocols, including:\n",
    "\n",
    "- BB84: The first and most well-known QKD protocol\n",
    "- E91: Based on quantum entanglement\n",
    "- SARG04: A protocol resistant to photon number splitting attacks\n",
    "- CV-QKD: Continuous-variable QKD\n",
    "- HD-QKD: High-dimensional QKD\n",
    "\n",
    "Let's start by importing the necessary modules:"
   ]
  },
  {
   "cell_type": "code",
   "execution_count": null,
   "metadata": {},
   "outputs": [],
   "source": [
    "# Import QKDpy modules\n",
    "import numpy as np\n",
    "import matplotlib.pyplot as plt\n",
    "\n",
    "# Core QKDpy modules\n",
    "from qkdpy import BB84, E91, QuantumChannel, Qubit\n",
    "from qkdpy.utils import ProtocolVisualizer, KeyRateAnalyzer\n",
    "from qkdpy.network import QuantumNetwork\n",
    "from qkdpy.ml import QKDOptimizer, QKDAnomalyDetector\n",
    "\n",
    "# For better visualization\n",
    "plt.style.use('seaborn-v0_8')\n",
    "%matplotlib inline"
   ]
  },
  {
   "cell_type": "markdown",
   "metadata": {},
   "source": [
    "<a id='installation'></a>\n",
    "## 2. Installation\n",
    "\n",
    "To install QKDpy, you can use pip:\n",
    "\n",
    "```bash\n",
    "pip install qkdpy\n",
    "```\n",
    "\n",
    "Or if you prefer using uv (recommended):\n",
    "\n",
    "```bash\n",
    "uv pip install qkdpy\n",
    "```\n",
    "\n",
    "For development installation:\n",
    "\n",
    "```bash\n",
    "git clone https://github.com/Pranava-Kumar/qkdpy.git\n",
    "cd qkdpy\n",
    "uv pip install -e .\n",
    "```"
   ]
  },
  {
   "cell_type": "markdown",
   "metadata": {},
   "source": [
    "<a id='basic-simulation'></a>\n",
    "## 3. Basic QKD Simulation\n",
    "\n",
    "Let's start with a basic simulation of the BB84 protocol. We'll create a quantum channel, instantiate the BB84 protocol, and execute it to generate a shared key."
   ]
  },
  {
   "cell_type": "code",
   "execution_count": null,
   "metadata": {},
   "outputs": [],
   "source": [
    "# Create a quantum channel with some noise and loss\n",
    "channel = QuantumChannel(loss=0.1, noise_model='depolarizing', noise_level=0.05)\n",
    "\n",
    "# Create a BB84 protocol instance\n",
    "bb84 = BB84(channel, key_length=128)\n",
    "\n",
    "# Execute the protocol\n",
    "results = bb84.execute()\n",
    "\n",
    "# Print the results\n",
    "print(f\"Generated key length: {len(results['final_key'])}\")\n",
    "print(f\"QBER: {results['qber']:.4f}\")\n",
    "print(f\"Is secure: {results['is_secure']}\")\n",
    "print(f\"Final key (first 20 bits): {results['final_key'][:20]}\")"
   ]
  },
  {
   "cell_type": "markdown",
   "metadata": {},
   "source": [
    "### Visualizing the Protocol Execution\n",
    "\n",
    "QKDpy provides powerful visualization tools to help understand how the protocol works:"
   ]
  },
  {
   "cell_type": "code",
   "execution_count": null,
   "metadata": {},
   "outputs": [],
   "source": [
    "# Visualize the BB84 protocol execution\n",
    "fig = ProtocolVisualizer.plot_bb84_protocol(\n",
    "    alice_bits=bb84.alice_bits[:50],\n",
    "    alice_bases=bb84.alice_bases[:50],\n",
    "    bob_bases=bb84.bob_bases[:50],\n",
    "    bob_results=bb84.bob_results[:50],\n",
    "    title=\"BB84 Protocol Execution Visualization\"\n",
    ")\n",
    "plt.show()"
   ]
  },
  {
   "cell_type": "markdown",
   "metadata": {},
   "source": [
    "<a id='advanced-protocols'></a>\n",
    "## 4. Advanced Protocols\n",
    "\n",
    "QKDpy implements several advanced QKD protocols. Let's explore some of them:"
   ]
  },
  {
   "cell_type": "code",
   "execution_count": null,
   "metadata": {},
   "outputs": [],
   "source": [
    "# High-Dimensional QKD (HD-QKD)\n",
    "from qkdpy.protocols.hd_qkd import HDQKD\n",
    "\n",
    "# Create a quantum channel\n",
    "channel = QuantumChannel(loss=0.1, noise_model='depolarizing', noise_level=0.05)\n",
    "\n",
    "# Create an HD-QKD protocol instance with 4-dimensional qudits\n",
    "hd_qkd = HDQKD(channel, key_length=100, dimension=4)\n",
    "\n",
    "# Execute the protocol\n",
    "results = hd_qkd.execute()\n",
    "\n",
    "# Print the results\n",
    "print(f\"Generated key: {results['final_key'][:20]}...\")\n",
    "print(f\"QBER: {results['qber']:.4f}\")\n",
    "print(f\"Is secure: {results['is_secure']}\")\n",
    "print(f\"Dimensional efficiency gain: {hd_qkd.get_dimension_efficiency():.2f}x\")"
   ]
  },
  {
   "cell_type": "markdown",
   "metadata": {},
   "source": [
    "### Comparing Protocol Performance\n",
    "\n",
    "Let's compare the performance of different protocols:"
   ]
  },
  {
   "cell_type": "code",
   "execution_count": null,
   "metadata": {},
   "outputs": [],
   "source": [
    "# Compare different protocols\n",
    "protocols = [\n",
    "    (\"BB84\", BB84(channel, key_length=100)),\n",
    "    (\"E91\", E91(channel, key_length=100)),\n",
    "    (\"HD-QKD\", HDQKD(channel, key_length=100, dimension=4))\n",
    "]\n",
    "\n",
    "# Execute each protocol and collect results\n",
    "results = {}\n",
    "for name, protocol in protocols:\n",
    "    try:\n",
    "        result = protocol.execute()\n",
    "        results[name] = {\n",
    "            'key_length': len(result['final_key']),\n",
    "            'qber': result['qber'],\n",
    "            'is_secure': result['is_secure'],\n",
    "            'execution_time': result.get('execution_time', 0)\n",
    "        }\n",
    "    except Exception as e:\n",
    "        print(f\"Error executing {name}: {e}\")\n",
    "        results[name] = None\n",
    "\n",
    "# Display results\n",
    "print(\"Protocol Comparison Results:\")\n",
    "print(\"-\" * 50)\n",
    "for name, result in results.items():\n",
    "    if result:\n",
    "        print(f\"{name}: Key length={result['key_length']}, QBER={result['qber']:.4f}, Secure={result['is_secure']}\")\n",
    "    else:\n",
    "        print(f\"{name}: Failed to execute\")"
   ]
  },
  {
   "cell_type": "markdown",
   "metadata": {},
   "source": [
    "<a id='quantum-networks'></a>\n",
    "## 5. Quantum Networks\n",
    "\n",
    "QKDpy also provides tools for simulating quantum networks with multiple nodes:"
   ]
  },
  {
   "cell_type": "code",
   "execution_count": null,
   "metadata": {},
   "outputs": [],
   "source": [
    "# Create a quantum network\n",
    "network = QuantumNetwork(\"Tutorial Network\")\n",
    "\n",
    "# Add nodes with different protocols\n",
    "channel1 = QuantumChannel(loss=0.1, noise_model='depolarizing', noise_level=0.05)\n",
    "channel2 = QuantumChannel(loss=0.15, noise_model='depolarizing', noise_level=0.07)\n",
    "channel3 = QuantumChannel(loss=0.05, noise_model='depolarizing', noise_level=0.03)\n",
    "\n",
    "# Create protocols for each node\n",
    "bb84_alice = BB84(channel1, key_length=128)\n",
    "bb84_bob = BB84(channel1, key_length=128)\n",
    "bb84_charlie = BB84(channel2, key_length=128)\n",
    "\n",
    "# Add nodes to the network\n",
    "network.add_node(\"Alice\", bb84_alice)\n",
    "network.add_node(\"Bob\", bb84_bob)\n",
    "network.add_node(\"Charlie\", bb84_charlie)\n",
    "\n",
    "# Add connections\n",
    "network.add_connection(\"Alice\", \"Bob\", channel1)\n",
    "network.add_connection(\"Bob\", \"Charlie\", channel2)\n",
    "network.add_connection(\"Alice\", \"Charlie\", channel3)\n",
    "\n",
    "# Display network information\n",
    "stats = network.get_network_statistics()\n",
    "print(f\"Network: {stats['network_name']}\")\n",
    "print(f\"Number of nodes: {stats['num_nodes']}\")\n",
    "print(f\"Number of connections: {stats['num_connections']}\")\n",
    "print(f\"Average degree: {stats['average_degree']:.2f}\")"
   ]
  },
  {
   "cell_type": "markdown",
   "metadata": {},
   "source": [
    "### Establishing Keys in the Network\n",
    "\n",
    "Let's establish keys between different nodes in the network:"
   ]
  },
  {
   "cell_type": "code",
   "execution_count": null,
   "metadata": {},
   "outputs": [],
   "source": [
    "# Establish a key between Alice and Charlie\n",
    "key = network.establish_key_between_nodes(\"Alice\", \"Charlie\", key_length=64)\n",
    "\n",
    "if key:\n",
    "    print(f\"Successfully established key between Alice and Charlie:\")\n",
    "    print(f\"Key (first 20 bits): {key[:20]}\")\n",
    "else:\n",
    "    print(\"Failed to establish key between Alice and Charlie\")\n",
    "\n",
    "# Simulate network performance\n",
    "performance = network.simulate_network_performance(num_trials=50)\n",
    "print(f\"\\nNetwork Performance Simulation:\")\n",
    "print(f\"Success rate: {performance['success_rate']:.2%}\")\n",
    "print(f\"Average key length: {performance['average_key_length']:.1f}\")\n",
    "print(f\"Average QBER: {performance['average_qber']:.4f}\")"
   ]
  },
  {
   "cell_type": "markdown",
   "metadata": {},
   "source": [
    "<a id='visualization'></a>\n",
    "## 6. Visualization Tools\n",
    "\n",
    "QKDpy includes advanced visualization tools to help understand quantum states and protocol execution:"
   ]
  },
  {
   "cell_type": "code",
   "execution_count": null,
   "metadata": {},
   "outputs": [],
   "source": [
    "# Visualize quantum states on the Bloch sphere\n",
    "from qkdpy.utils import BlochSphere\n",
    "\n",
    "# Create different quantum states\n",
    "qubit_zero = Qubit.zero()\n",
    "qubit_one = Qubit.one()\n",
    "qubit_plus = Qubit.plus()\n",
    "qubit_minus = Qubit.minus()\n",
    "\n",
    "# Plot multiple qubit states on the Bloch sphere\n",
    "qubits = [qubit_zero, qubit_one, qubit_plus, qubit_minus]\n",
    "labels = [\"|0⟩\", \"|1⟩\", \"|+⟩\", \"|-⟩\"]\n",
    "\n",
    "fig = BlochSphere.plot_multiple_qubits(qubits, labels, title=\"Quantum States on Bloch Sphere\")\n",
    "plt.show()"
   ]
  },
  {
   "cell_type": "markdown",
   "metadata": {},
   "source": [
    "### Key Rate Analysis\n",
    "\n",
    "Analyze how key generation rate varies with different parameters:"
   ]
  },
  {
   "cell_type": "code",
   "execution_count": null,
   "metadata": {},
   "outputs": [],
   "source": [
    "# Analyze key rate vs. loss\n",
    "from qkdpy.utils import KeyRateAnalyzer\n",
    "\n",
    "# Test different loss values\n",
    "loss_values = np.linspace(0, 0.5, 20)\n",
    "key_rates = []\n",
    "\n",
    "for loss in loss_values:\n",
    "    channel = QuantumChannel(loss=loss, noise_model='depolarizing', noise_level=0.05)\n",
    "    bb84 = BB84(channel, key_length=100)\n",
    "    try:\n",
    "        results = bb84.execute()\n",
    "        key_rates.append(bb84.get_key_rate())\n",
    "    except:\n",
    "        key_rates.append(0)\n",
    "\n",
    "# Plot the results\n",
    "plt.figure(figsize=(10, 6))\n",
    "plt.plot(loss_values, key_rates, 'b-o', linewidth=2, markersize=4)\n",
    "plt.xlabel('Channel Loss')\n",
    "plt.ylabel('Key Rate')\n",
    "plt.title('Key Rate vs. Channel Loss')\n",
    "plt.grid(True, alpha=0.3)\n",
    "plt.show()"
   ]
  },
  {
   "cell_type": "markdown",
   "metadata": {},
   "source": [
    "<a id='ml-integration'></a>\n",
    "## 7. Machine Learning Integration\n",
    "\n",
    "QKDpy integrates machine learning tools for protocol optimization and anomaly detection:"
   ]
  },
  {
   "cell_type": "code",
   "execution_count": null,
   "metadata": {},
   "outputs": [],
   "source": [
    "# Optimize QKD protocol parameters using machine learning\n",
    "from qkdpy.ml import QKDOptimizer\n",
    "\n",
    "# Define an objective function to maximize\n",
    "def objective_function(params):\n",
    "    # Extract parameters\n",
    "    loss = params.get('loss', 0.1)\n",
    "    noise_level = params.get('noise_level', 0.05)\n",
    "    \n",
    "    # Create channel and protocol\n",
    "    channel = QuantumChannel(loss=loss, noise_model='depolarizing', noise_level=noise_level)\n",
    "    protocol = BB84(channel, key_length=100)\n",
    "    \n",
    "    # Execute protocol and return key rate (higher is better)\n",
    "    try:\n",
    "        results = protocol.execute()\n",
    "        return protocol.get_key_rate() if results.get('is_secure', False) else 0\n",
    "    except:\n",
    "        return 0\n",
    "\n",
    "# Define parameter space\n",
    "parameter_space = {\n",
    "    'loss': (0.0, 0.5),\n",
    "    'noise_level': (0.0, 0.2)\n",
    "}\n",
    "\n",
    "# Create optimizer\n",
    "optimizer = QKDOptimizer(\"BB84\")\n",
    "\n",
    "# Optimize parameters\n",
    "results = optimizer.optimize_channel_parameters(\n",
    "    parameter_space=parameter_space,\n",
    "    objective_function=objective_function,\n",
    "    num_iterations=20,\n",
    "    method=\"bayesian\"\n",
    ")\n",
    "\n",
    "print(\"Optimization Results:\")\n",
    "print(f\"Best parameters: {results['best_parameters']}\")\n",
    "print(f\"Best objective value: {results['best_objective_value']:.4f}\")"
   ]
  },
  {
   "cell_type": "markdown",
   "metadata": {},
   "source": [
    "### Anomaly Detection\n",
    "\n",
    "Detect anomalies in QKD system performance:"
   ]
  },
  {
   "cell_type": "code",
   "execution_count": null,
   "metadata": {},
   "outputs": [],
   "source": [
    "# Anomaly detection for QKD systems\n",
    "from qkdpy.ml import QKDAnomalyDetector\n",
    "\n",
    "# Create historical data\n",
    "history = [\n",
    "    {'qber': 0.02, 'key_rate': 1000, 'loss': 0.1},\n",
    "    {'qber': 0.03, 'key_rate': 950, 'loss': 0.12},\n",
    "    {'qber': 0.025, 'key_rate': 980, 'loss': 0.11},\n",
    "    {'qber': 0.028, 'key_rate': 960, 'loss': 0.115},\n",
    "    {'qber': 0.022, 'key_rate': 1020, 'loss': 0.09},\n",
    "]\n",
    "\n",
    "# Establish baseline\n",
    "detector = QKDAnomalyDetector()\n",
    "detector.establish_baseline(history)\n",
    "\n",
    "# Test with normal metrics\n",
    "normal_metrics = {'qber': 0.025, 'key_rate': 970, 'loss': 0.11}\n",
    "anomalies = detector.detect_anomalies(normal_metrics)\n",
    "print(f\"Normal metrics anomalies: {anomalies}\")\n",
    "\n",
    "# Test with anomalous metrics\n",
    "anomalous_metrics = {'qber': 0.5, 'key_rate': 100, 'loss': 0.8}\n",
    "anomalies = detector.detect_anomalies(anomalous_metrics)\n",
    "print(f\"Anomalous metrics anomalies: {anomalies}\")\n",
    "\n",
    "# Get detection report\n",
    "report = detector.get_detection_report()\n",
    "print(f\"Detection report: {report}\")"
   ]
  },
  {
   "cell_type": "markdown",
   "metadata": {},
   "source": [
    "## Conclusion\n",
    "\n",
    "In this tutorial, we've explored the key features of QKDpy:\n",
    "\n",
    "1. **Protocol Implementation**: We demonstrated how to use various QKD protocols including BB84, E91, and HD-QKD.\n",
    "2. **Quantum Networks**: We showed how to create and simulate quantum networks with multiple nodes.\n",
    "3. **Visualization Tools**: We used advanced visualization tools to understand quantum states and protocol execution.\n",
    "4. **Machine Learning Integration**: We demonstrated how to optimize protocols and detect anomalies using ML tools.\n",
    "\n",
    "QKDpy provides a comprehensive platform for quantum cryptography research and education. Whether you're a researcher exploring new protocols or a student learning about quantum cryptography, QKDpy offers the tools you need to simulate and analyze QKD systems.\n",
    "\n",
    "For more information, please visit the [QKDpy GitHub repository](https://github.com/Pranava-Kumar/qkdpy) or check out the documentation."
   ]
  }
 ],
 "metadata": {
  "kernelspec": {
   "display_name": "Python 3",
   "language": "python",
   "name": "python3"
  },
  "language_info": {
   "codemirror_mode": {
    "name": "ipython",
    "version": 3
   },
   "file_extension": ".py",
   "mimetype": "text/x-python",
   "name": "python",
   "nbconvert_exporter": "python",
   "pygments_lexer": "ipython3",
   "version": "3.8.5"
  }
 },
 "nbformat": 4,
 "nbformat_minor": 4
}
